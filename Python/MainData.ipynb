{
 "cells": [
  {
   "cell_type": "code",
   "execution_count": 64,
   "metadata": {},
   "outputs": [],
   "source": [
    "import pandas as pd\n",
    "data = pd.read_csv('https://docs.google.com/spreadsheets/d/e/2PACX-1vSr2xYotDgnAq6bqm5Nkjq9voHBKzKNWH2zvTRx5LU0jnpccWykvEF8iB_0g7Tzo2pwzkTuM3ETlr_h/pub?gid=0&single=true&output=csv&headers=0',header=1)\n",
    "data['confirmation_date'] = pd.to_datetime(data['confirmation_date'], errors='coerce')\n",
    "data['confirmation_date'] = data['confirmation_date'].dt.strftime('%Y/%#m/%#d')\n",
    "data_title_dep = data[['case_no','confirmation_date','gender','age','citizenship_district_en',\"detail_zh\",'detail_en']].copy()\n",
    "data_title_dep.to_excel('MainData.xlsx',index=0, encoding='utf_8_sig')"
   ]
  }
 ],
 "metadata": {
  "kernelspec": {
   "display_name": "Python 3",
   "language": "python",
   "name": "python3"
  },
  "language_info": {
   "codemirror_mode": {
    "name": "ipython",
    "version": 3
   },
   "file_extension": ".py",
   "mimetype": "text/x-python",
   "name": "python",
   "nbconvert_exporter": "python",
   "pygments_lexer": "ipython3",
   "version": "3.8.3"
  }
 },
 "nbformat": 4,
 "nbformat_minor": 4
}
